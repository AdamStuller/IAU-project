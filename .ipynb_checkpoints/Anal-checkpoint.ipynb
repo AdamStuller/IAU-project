{
 "cells": [
  {
   "cell_type": "code",
   "execution_count": 116,
   "metadata": {},
   "outputs": [],
   "source": [
    "%matplotlib inline\n",
    "import pandas as pd\n",
    "import numpy as np\n",
    "import matplotlib.pyplot as plt\n",
    "import seaborn as sb\n",
    "import scipy.stats as stats\n",
    "import re\n",
    "\n",
    "\n",
    "import datetime"
   ]
  },
  {
   "cell_type": "code",
   "execution_count": 117,
   "metadata": {},
   "outputs": [],
   "source": [
    "other_train = pd.read_csv(\"dataset/other_train.csv\",index_col = 0)\n",
    "other_valid = pd.read_csv(\"dataset/other_valid.csv\",index_col = 0)\n",
    "personal_train = pd.read_csv(\"dataset/personal_train.csv\",index_col = 0)\n",
    "personal_valid = pd.read_csv(\"dataset/personal_valid.csv\",index_col = 0)\n"
   ]
  },
  {
   "cell_type": "code",
   "execution_count": 118,
   "metadata": {},
   "outputs": [
    {
     "data": {
      "text/html": [
       "<div>\n",
       "<style scoped>\n",
       "    .dataframe tbody tr th:only-of-type {\n",
       "        vertical-align: middle;\n",
       "    }\n",
       "\n",
       "    .dataframe tbody tr th {\n",
       "        vertical-align: top;\n",
       "    }\n",
       "\n",
       "    .dataframe thead th {\n",
       "        text-align: right;\n",
       "    }\n",
       "</style>\n",
       "<table border=\"1\" class=\"dataframe\">\n",
       "  <thead>\n",
       "    <tr style=\"text-align: right;\">\n",
       "      <th></th>\n",
       "      <th>name</th>\n",
       "      <th>address</th>\n",
       "      <th>kurtosis_oxygen</th>\n",
       "      <th>pregnant</th>\n",
       "      <th>education-num</th>\n",
       "      <th>relationship</th>\n",
       "      <th>skewness_glucose</th>\n",
       "      <th>mean_glucose</th>\n",
       "      <th>std_oxygen</th>\n",
       "      <th>capital-gain</th>\n",
       "      <th>...</th>\n",
       "      <th>kurtosis_glucose</th>\n",
       "      <th>personal_info</th>\n",
       "      <th>education</th>\n",
       "      <th>fnlwgt</th>\n",
       "      <th>class</th>\n",
       "      <th>std_glucose</th>\n",
       "      <th>income</th>\n",
       "      <th>mean_oxygen</th>\n",
       "      <th>hours-per-week</th>\n",
       "      <th>capital-loss</th>\n",
       "    </tr>\n",
       "  </thead>\n",
       "  <tbody>\n",
       "    <tr>\n",
       "      <th>0</th>\n",
       "      <td>Mathew Johnson</td>\n",
       "      <td>32873 Michelle Prairie Apt. 196\\r\\nNew Jessica...</td>\n",
       "      <td>1.429773</td>\n",
       "      <td>f</td>\n",
       "      <td>9.0</td>\n",
       "      <td>Not-in-family</td>\n",
       "      <td>0.127060565</td>\n",
       "      <td>157.664062</td>\n",
       "      <td>43.672966</td>\n",
       "      <td>0.0</td>\n",
       "      <td>...</td>\n",
       "      <td>-0.728489</td>\n",
       "      <td>Craft-repair|United-States\\r\\r\\nNever-married ...</td>\n",
       "      <td>HS-grad</td>\n",
       "      <td>208862.0</td>\n",
       "      <td>0.0</td>\n",
       "      <td>54.374896</td>\n",
       "      <td>&lt;=50K</td>\n",
       "      <td>28.038462</td>\n",
       "      <td>40.0</td>\n",
       "      <td>0.0</td>\n",
       "    </tr>\n",
       "    <tr>\n",
       "      <th>1</th>\n",
       "      <td>Ronald Lange</td>\n",
       "      <td>30973 Martinez Shores\\r\\nJameston, CA 70245</td>\n",
       "      <td>9.086361</td>\n",
       "      <td>f</td>\n",
       "      <td>10.0</td>\n",
       "      <td>Unmarried</td>\n",
       "      <td>-0.279978339</td>\n",
       "      <td>117.875000</td>\n",
       "      <td>15.103930</td>\n",
       "      <td>0.0</td>\n",
       "      <td>...</td>\n",
       "      <td>0.171736</td>\n",
       "      <td>Adm-clerical|United-States\\r\\r\\nDivorced -- Pr...</td>\n",
       "      <td>Some-college</td>\n",
       "      <td>109015.0</td>\n",
       "      <td>0.0</td>\n",
       "      <td>54.222775</td>\n",
       "      <td>&lt;=50K</td>\n",
       "      <td>2.596154</td>\n",
       "      <td>40.0</td>\n",
       "      <td>0.0</td>\n",
       "    </tr>\n",
       "    <tr>\n",
       "      <th>2</th>\n",
       "      <td>Larry Seider</td>\n",
       "      <td>919 Austin Wall\\r\\nJessicaview, MO 33808</td>\n",
       "      <td>8.666514</td>\n",
       "      <td>f</td>\n",
       "      <td>9.0</td>\n",
       "      <td>Husband</td>\n",
       "      <td>0.230722264</td>\n",
       "      <td>109.937500</td>\n",
       "      <td>15.166792</td>\n",
       "      <td>0.0</td>\n",
       "      <td>...</td>\n",
       "      <td>0.262268</td>\n",
       "      <td>Other-service|United-States\\r\\r\\nMarried-civ-s...</td>\n",
       "      <td>HS-grad</td>\n",
       "      <td>137674.0</td>\n",
       "      <td>0.0</td>\n",
       "      <td>46.742605</td>\n",
       "      <td>&lt;=50K</td>\n",
       "      <td>2.566054</td>\n",
       "      <td>40.0</td>\n",
       "      <td>0.0</td>\n",
       "    </tr>\n",
       "    <tr>\n",
       "      <th>3</th>\n",
       "      <td>Thomas Wise</td>\n",
       "      <td>39041 Graham Freeway\\r\\nJeanettefort, AK 59160</td>\n",
       "      <td>17.251642</td>\n",
       "      <td>f</td>\n",
       "      <td>9.0</td>\n",
       "      <td>Unmarried</td>\n",
       "      <td>0.867791138</td>\n",
       "      <td>98.882812</td>\n",
       "      <td>13.941180</td>\n",
       "      <td>0.0</td>\n",
       "      <td>...</td>\n",
       "      <td>0.529013</td>\n",
       "      <td>Exec-managerial|United-States\\r\\r\\nDivorced --...</td>\n",
       "      <td>HS-grad</td>\n",
       "      <td>97453.0</td>\n",
       "      <td>0.0</td>\n",
       "      <td>-4083.036957</td>\n",
       "      <td>&lt;=50K</td>\n",
       "      <td>0.806856</td>\n",
       "      <td>40.0</td>\n",
       "      <td>0.0</td>\n",
       "    </tr>\n",
       "    <tr>\n",
       "      <th>4</th>\n",
       "      <td>Marion Bursey</td>\n",
       "      <td>85508 Martin Villages\\r\\nJonathanshire, AL 29047</td>\n",
       "      <td>7.788552</td>\n",
       "      <td>f</td>\n",
       "      <td>9.0</td>\n",
       "      <td>Not-in-family</td>\n",
       "      <td>1.746993878</td>\n",
       "      <td>92.031250</td>\n",
       "      <td>16.477481</td>\n",
       "      <td>0.0</td>\n",
       "      <td>...</td>\n",
       "      <td>0.694631</td>\n",
       "      <td>Other-service|United-States\\r\\r\\nDivorced -- P...</td>\n",
       "      <td>HS-grad</td>\n",
       "      <td>191088.0</td>\n",
       "      <td>0.0</td>\n",
       "      <td>39.015609</td>\n",
       "      <td>&lt;=50K</td>\n",
       "      <td>2.987458</td>\n",
       "      <td>52.0</td>\n",
       "      <td>1741.0</td>\n",
       "    </tr>\n",
       "  </tbody>\n",
       "</table>\n",
       "<p>5 rows × 21 columns</p>\n",
       "</div>"
      ],
      "text/plain": [
       "             name                                            address  \\\n",
       "0  Mathew Johnson  32873 Michelle Prairie Apt. 196\\r\\nNew Jessica...   \n",
       "1    Ronald Lange        30973 Martinez Shores\\r\\nJameston, CA 70245   \n",
       "2    Larry Seider           919 Austin Wall\\r\\nJessicaview, MO 33808   \n",
       "3     Thomas Wise     39041 Graham Freeway\\r\\nJeanettefort, AK 59160   \n",
       "4   Marion Bursey   85508 Martin Villages\\r\\nJonathanshire, AL 29047   \n",
       "\n",
       "   kurtosis_oxygen pregnant  education-num    relationship skewness_glucose  \\\n",
       "0         1.429773        f            9.0   Not-in-family      0.127060565   \n",
       "1         9.086361        f           10.0       Unmarried     -0.279978339   \n",
       "2         8.666514        f            9.0         Husband      0.230722264   \n",
       "3        17.251642        f            9.0       Unmarried      0.867791138   \n",
       "4         7.788552        f            9.0   Not-in-family      1.746993878   \n",
       "\n",
       "   mean_glucose  std_oxygen  capital-gain  ...  kurtosis_glucose  \\\n",
       "0    157.664062   43.672966           0.0  ...         -0.728489   \n",
       "1    117.875000   15.103930           0.0  ...          0.171736   \n",
       "2    109.937500   15.166792           0.0  ...          0.262268   \n",
       "3     98.882812   13.941180           0.0  ...          0.529013   \n",
       "4     92.031250   16.477481           0.0  ...          0.694631   \n",
       "\n",
       "                                       personal_info      education    fnlwgt  \\\n",
       "0  Craft-repair|United-States\\r\\r\\nNever-married ...        HS-grad  208862.0   \n",
       "1  Adm-clerical|United-States\\r\\r\\nDivorced -- Pr...   Some-college  109015.0   \n",
       "2  Other-service|United-States\\r\\r\\nMarried-civ-s...        HS-grad  137674.0   \n",
       "3  Exec-managerial|United-States\\r\\r\\nDivorced --...        HS-grad   97453.0   \n",
       "4  Other-service|United-States\\r\\r\\nDivorced -- P...        HS-grad  191088.0   \n",
       "\n",
       "   class  std_glucose  income mean_oxygen  hours-per-week  capital-loss  \n",
       "0    0.0    54.374896   <=50K   28.038462            40.0           0.0  \n",
       "1    0.0    54.222775   <=50K    2.596154            40.0           0.0  \n",
       "2    0.0    46.742605   <=50K    2.566054            40.0           0.0  \n",
       "3    0.0 -4083.036957   <=50K    0.806856            40.0           0.0  \n",
       "4    0.0    39.015609   <=50K    2.987458            52.0        1741.0  \n",
       "\n",
       "[5 rows x 21 columns]"
      ]
     },
     "execution_count": 118,
     "metadata": {},
     "output_type": "execute_result"
    }
   ],
   "source": [
    "other_train.head()"
   ]
  },
  {
   "cell_type": "code",
   "execution_count": 119,
   "metadata": {},
   "outputs": [
    {
     "data": {
      "text/html": [
       "<div>\n",
       "<style scoped>\n",
       "    .dataframe tbody tr th:only-of-type {\n",
       "        vertical-align: middle;\n",
       "    }\n",
       "\n",
       "    .dataframe tbody tr th {\n",
       "        vertical-align: top;\n",
       "    }\n",
       "\n",
       "    .dataframe thead th {\n",
       "        text-align: right;\n",
       "    }\n",
       "</style>\n",
       "<table border=\"1\" class=\"dataframe\">\n",
       "  <thead>\n",
       "    <tr style=\"text-align: right;\">\n",
       "      <th></th>\n",
       "      <th>name</th>\n",
       "      <th>address</th>\n",
       "      <th>age</th>\n",
       "      <th>sex</th>\n",
       "      <th>date_of_birth</th>\n",
       "    </tr>\n",
       "  </thead>\n",
       "  <tbody>\n",
       "    <tr>\n",
       "      <th>0</th>\n",
       "      <td>Roscoe Bohannon</td>\n",
       "      <td>7183 Osborne Ways Apt. 651\\r\\nEast Andrew, OH ...</td>\n",
       "      <td>53</td>\n",
       "      <td>Female</td>\n",
       "      <td>1966-10-09 00:00:00</td>\n",
       "    </tr>\n",
       "    <tr>\n",
       "      <th>1</th>\n",
       "      <td>Ernest Kline</td>\n",
       "      <td>391 Ball Road Suite 961\\r\\nFlowersborough, IN ...</td>\n",
       "      <td>32</td>\n",
       "      <td>Male</td>\n",
       "      <td>1987-04-26</td>\n",
       "    </tr>\n",
       "    <tr>\n",
       "      <th>2</th>\n",
       "      <td>Harold Hendriks</td>\n",
       "      <td>8702 Vincent Square\\r\\nNew Jerryfurt, CO 30614</td>\n",
       "      <td>56</td>\n",
       "      <td>Female</td>\n",
       "      <td>1962-11-21</td>\n",
       "    </tr>\n",
       "    <tr>\n",
       "      <th>3</th>\n",
       "      <td>Randy Baptiste</td>\n",
       "      <td>2751 Harris Crossroad\\r\\nWest Ashley, CA 30311</td>\n",
       "      <td>53</td>\n",
       "      <td>Male</td>\n",
       "      <td>1966-04-09</td>\n",
       "    </tr>\n",
       "    <tr>\n",
       "      <th>4</th>\n",
       "      <td>Anthony Colucci</td>\n",
       "      <td>904 Robert Cliffs Suite 186\\r\\nWest Kyle, CO 7...</td>\n",
       "      <td>45</td>\n",
       "      <td>Female</td>\n",
       "      <td>1974-04-11</td>\n",
       "    </tr>\n",
       "  </tbody>\n",
       "</table>\n",
       "</div>"
      ],
      "text/plain": [
       "              name                                            address  age  \\\n",
       "0  Roscoe Bohannon  7183 Osborne Ways Apt. 651\\r\\nEast Andrew, OH ...   53   \n",
       "1     Ernest Kline  391 Ball Road Suite 961\\r\\nFlowersborough, IN ...   32   \n",
       "2  Harold Hendriks     8702 Vincent Square\\r\\nNew Jerryfurt, CO 30614   56   \n",
       "3   Randy Baptiste     2751 Harris Crossroad\\r\\nWest Ashley, CA 30311   53   \n",
       "4  Anthony Colucci  904 Robert Cliffs Suite 186\\r\\nWest Kyle, CO 7...   45   \n",
       "\n",
       "       sex        date_of_birth  \n",
       "0   Female  1966-10-09 00:00:00  \n",
       "1     Male           1987-04-26  \n",
       "2   Female           1962-11-21  \n",
       "3     Male           1966-04-09  \n",
       "4   Female           1974-04-11  "
      ]
     },
     "execution_count": 119,
     "metadata": {},
     "output_type": "execute_result"
    }
   ],
   "source": [
    "personal_train.head()"
   ]
  },
  {
   "cell_type": "code",
   "execution_count": 120,
   "metadata": {},
   "outputs": [
    {
     "data": {
      "text/html": [
       "<div>\n",
       "<style scoped>\n",
       "    .dataframe tbody tr th:only-of-type {\n",
       "        vertical-align: middle;\n",
       "    }\n",
       "\n",
       "    .dataframe tbody tr th {\n",
       "        vertical-align: top;\n",
       "    }\n",
       "\n",
       "    .dataframe thead th {\n",
       "        text-align: right;\n",
       "    }\n",
       "</style>\n",
       "<table border=\"1\" class=\"dataframe\">\n",
       "  <thead>\n",
       "    <tr style=\"text-align: right;\">\n",
       "      <th></th>\n",
       "      <th>name</th>\n",
       "      <th>address</th>\n",
       "      <th>age</th>\n",
       "      <th>sex</th>\n",
       "      <th>date_of_birth</th>\n",
       "    </tr>\n",
       "  </thead>\n",
       "  <tbody>\n",
       "    <tr>\n",
       "      <th>count</th>\n",
       "      <td>3933</td>\n",
       "      <td>3933</td>\n",
       "      <td>3933.000000</td>\n",
       "      <td>3933</td>\n",
       "      <td>3933</td>\n",
       "    </tr>\n",
       "    <tr>\n",
       "      <th>unique</th>\n",
       "      <td>3933</td>\n",
       "      <td>3933</td>\n",
       "      <td>NaN</td>\n",
       "      <td>2</td>\n",
       "      <td>3715</td>\n",
       "    </tr>\n",
       "    <tr>\n",
       "      <th>top</th>\n",
       "      <td>James Martin</td>\n",
       "      <td>PSC 1348, Box 5314\\r\\nAPO AE 57802</td>\n",
       "      <td>NaN</td>\n",
       "      <td>Male</td>\n",
       "      <td>1964-09-27</td>\n",
       "    </tr>\n",
       "    <tr>\n",
       "      <th>freq</th>\n",
       "      <td>1</td>\n",
       "      <td>1</td>\n",
       "      <td>NaN</td>\n",
       "      <td>2613</td>\n",
       "      <td>4</td>\n",
       "    </tr>\n",
       "    <tr>\n",
       "      <th>mean</th>\n",
       "      <td>NaN</td>\n",
       "      <td>NaN</td>\n",
       "      <td>51.816934</td>\n",
       "      <td>NaN</td>\n",
       "      <td>NaN</td>\n",
       "    </tr>\n",
       "    <tr>\n",
       "      <th>std</th>\n",
       "      <td>NaN</td>\n",
       "      <td>NaN</td>\n",
       "      <td>11.814803</td>\n",
       "      <td>NaN</td>\n",
       "      <td>NaN</td>\n",
       "    </tr>\n",
       "    <tr>\n",
       "      <th>min</th>\n",
       "      <td>NaN</td>\n",
       "      <td>NaN</td>\n",
       "      <td>-1.000000</td>\n",
       "      <td>NaN</td>\n",
       "      <td>NaN</td>\n",
       "    </tr>\n",
       "    <tr>\n",
       "      <th>25%</th>\n",
       "      <td>NaN</td>\n",
       "      <td>NaN</td>\n",
       "      <td>44.000000</td>\n",
       "      <td>NaN</td>\n",
       "      <td>NaN</td>\n",
       "    </tr>\n",
       "    <tr>\n",
       "      <th>50%</th>\n",
       "      <td>NaN</td>\n",
       "      <td>NaN</td>\n",
       "      <td>52.000000</td>\n",
       "      <td>NaN</td>\n",
       "      <td>NaN</td>\n",
       "    </tr>\n",
       "    <tr>\n",
       "      <th>75%</th>\n",
       "      <td>NaN</td>\n",
       "      <td>NaN</td>\n",
       "      <td>60.000000</td>\n",
       "      <td>NaN</td>\n",
       "      <td>NaN</td>\n",
       "    </tr>\n",
       "    <tr>\n",
       "      <th>max</th>\n",
       "      <td>NaN</td>\n",
       "      <td>NaN</td>\n",
       "      <td>113.000000</td>\n",
       "      <td>NaN</td>\n",
       "      <td>NaN</td>\n",
       "    </tr>\n",
       "  </tbody>\n",
       "</table>\n",
       "</div>"
      ],
      "text/plain": [
       "                name                             address          age    sex  \\\n",
       "count           3933                                3933  3933.000000   3933   \n",
       "unique          3933                                3933          NaN      2   \n",
       "top     James Martin  PSC 1348, Box 5314\\r\\nAPO AE 57802          NaN   Male   \n",
       "freq               1                                   1          NaN   2613   \n",
       "mean             NaN                                 NaN    51.816934    NaN   \n",
       "std              NaN                                 NaN    11.814803    NaN   \n",
       "min              NaN                                 NaN    -1.000000    NaN   \n",
       "25%              NaN                                 NaN    44.000000    NaN   \n",
       "50%              NaN                                 NaN    52.000000    NaN   \n",
       "75%              NaN                                 NaN    60.000000    NaN   \n",
       "max              NaN                                 NaN   113.000000    NaN   \n",
       "\n",
       "       date_of_birth  \n",
       "count           3933  \n",
       "unique          3715  \n",
       "top       1964-09-27  \n",
       "freq               4  \n",
       "mean             NaN  \n",
       "std              NaN  \n",
       "min              NaN  \n",
       "25%              NaN  \n",
       "50%              NaN  \n",
       "75%              NaN  \n",
       "max              NaN  "
      ]
     },
     "execution_count": 120,
     "metadata": {},
     "output_type": "execute_result"
    }
   ],
   "source": [
    "personal_train.describe(include='all')"
   ]
  },
  {
   "cell_type": "code",
   "execution_count": 121,
   "metadata": {},
   "outputs": [
    {
     "data": {
      "text/plain": [
       "Index(['name', 'address', 'age', 'sex', 'date_of_birth'], dtype='object')"
      ]
     },
     "execution_count": 121,
     "metadata": {},
     "output_type": "execute_result"
    }
   ],
   "source": [
    "personal_train.columns.unique()"
   ]
  },
  {
   "cell_type": "code",
   "execution_count": 122,
   "metadata": {},
   "outputs": [
    {
     "data": {
      "text/plain": [
       "0      1982-09-23\n",
       "1      1993-12-16\n",
       "2      1977-10-15\n",
       "3      1961-01-23\n",
       "4      1976-03-15\n",
       "5      1989-12-12\n",
       "6      1981-05-25\n",
       "7      1963-06-04\n",
       "8      1979-03-01\n",
       "9      1953-05-07\n",
       "10     1960-09-24\n",
       "11     1976-10-11\n",
       "12     1963-02-02\n",
       "13     1961-07-28\n",
       "14     1980-12-05\n",
       "15     1966-07-20\n",
       "16     1954-09-06\n",
       "17     1964-05-12\n",
       "18     1957-10-27\n",
       "19     1967-05-01\n",
       "20     1981-06-20\n",
       "21     1968-03-02\n",
       "22     1968-02-14\n",
       "23     1968-08-14\n",
       "24     1977-04-25\n",
       "25     1971-05-01\n",
       "26     1963-07-23\n",
       "27     1962-06-17\n",
       "28     1962-11-04\n",
       "29     1991-12-05\n",
       "          ...    \n",
       "1281   1985-06-21\n",
       "1282   1956-10-05\n",
       "1283   1964-11-25\n",
       "1284   1987-09-23\n",
       "1285   1977-02-09\n",
       "1286   1955-10-15\n",
       "1287   1970-09-25\n",
       "1288   1972-06-14\n",
       "1289   1957-09-01\n",
       "1290   1971-10-12\n",
       "1291   1964-12-22\n",
       "1292   1958-08-19\n",
       "1293   1963-10-09\n",
       "1294   1982-12-14\n",
       "1295   1965-04-21\n",
       "1296   1959-12-24\n",
       "1297   1952-01-20\n",
       "1298   1957-01-21\n",
       "1299   1958-04-09\n",
       "1300   1949-10-08\n",
       "1301   1963-11-15\n",
       "1302   1968-03-21\n",
       "1303   1985-03-24\n",
       "1304   1965-11-22\n",
       "1305   1965-08-12\n",
       "1306   1991-08-09\n",
       "1307   1962-08-18\n",
       "1308   1948-08-22\n",
       "1309   1951-06-29\n",
       "1310   1967-01-29\n",
       "Name: date_of_birth, Length: 1311, dtype: datetime64[ns]"
      ]
     },
     "execution_count": 122,
     "metadata": {},
     "output_type": "execute_result"
    }
   ],
   "source": [
    "def normalize_date(x):\n",
    "    x = re.sub(r\"([0-9]{4}-[0-9]{2}-[0-9]{2}) 00[: ]?00[: ]?00\",r\"\\1\", x.strip())\n",
    "    x = re.sub(r\"([0-9]{2})\\/([0-9]{2})\\/([0-9]{4})\",r\"\\3-\\2-\\1\", x)\n",
    "    x = re.sub(r\"([0-9]{4})\\/([0-9]{2})\\/([0-9]{2})\",r\"\\1-\\2-\\3\", x)\n",
    "    x = re.sub(r\"(^[0-9]{2})-([0-9]{2})-([0-9]{2})\",r\"19\\1-\\2-\\3\", x)\n",
    "    return x\n",
    "\n",
    "personal_train['date_of_birth'] = personal_train['date_of_birth'].apply(normalize_date)\n",
    "personal_train['date_of_birth'] = pd.to_datetime(personal_train['date_of_birth'])\n",
    "personal_train['date_of_birth']\n",
    "\n",
    "personal_valid['date_of_birth'] = personal_valid['date_of_birth'].apply(normalize_date)\n",
    "personal_valid['date_of_birth'] = pd.to_datetime(personal_valid['date_of_birth'])\n",
    "personal_valid['date_of_birth']"
   ]
  },
  {
   "cell_type": "markdown",
   "metadata": {},
   "source": [
    "normalizacia datumov a zmena na typ datetime"
   ]
  },
  {
   "cell_type": "code",
   "execution_count": 123,
   "metadata": {},
   "outputs": [
    {
     "data": {
      "text/plain": [
       "Index(['name', 'address', 'kurtosis_oxygen', 'pregnant', 'education-num',\n",
       "       'relationship', 'skewness_glucose', 'mean_glucose', 'std_oxygen',\n",
       "       'capital-gain', 'skewness_oxygen', 'kurtosis_glucose', 'personal_info',\n",
       "       'education', 'fnlwgt', 'class', 'std_glucose', 'income', 'mean_oxygen',\n",
       "       'hours-per-week', 'capital-loss'],\n",
       "      dtype='object')"
      ]
     },
     "execution_count": 123,
     "metadata": {},
     "output_type": "execute_result"
    }
   ],
   "source": [
    "other_train.columns.unique()"
   ]
  },
  {
   "cell_type": "code",
   "execution_count": 124,
   "metadata": {},
   "outputs": [
    {
     "data": {
      "text/plain": [
       "array([False,  True])"
      ]
     },
     "execution_count": 124,
     "metadata": {},
     "output_type": "execute_result"
    }
   ],
   "source": [
    "other_train.pregnant.isna().unique()"
   ]
  },
  {
   "cell_type": "code",
   "execution_count": 125,
   "metadata": {},
   "outputs": [
    {
     "data": {
      "text/plain": [
       "0       0.0\n",
       "1       0.0\n",
       "2       0.0\n",
       "3       0.0\n",
       "4       0.0\n",
       "5       0.0\n",
       "6       0.0\n",
       "7       0.0\n",
       "8       0.0\n",
       "9       0.0\n",
       "10      0.0\n",
       "11      0.0\n",
       "12      0.0\n",
       "13      0.0\n",
       "14      0.0\n",
       "15      0.0\n",
       "16      0.0\n",
       "17      0.0\n",
       "18      0.0\n",
       "19      0.0\n",
       "20      0.0\n",
       "21      0.0\n",
       "22      0.0\n",
       "23      0.0\n",
       "24      0.0\n",
       "25      0.0\n",
       "26      0.0\n",
       "27      0.0\n",
       "28      0.0\n",
       "29      0.0\n",
       "       ... \n",
       "3953    0.0\n",
       "3954    0.0\n",
       "3955    0.0\n",
       "3956    0.0\n",
       "3957    0.0\n",
       "3958    0.0\n",
       "3959    0.0\n",
       "3960    0.0\n",
       "3961    0.0\n",
       "3962    0.0\n",
       "3963    0.0\n",
       "3964    0.0\n",
       "3965    0.0\n",
       "3966    0.0\n",
       "3967    0.0\n",
       "3968    0.0\n",
       "3969    0.0\n",
       "3970    0.0\n",
       "3971    0.0\n",
       "3972    0.0\n",
       "3973    0.0\n",
       "3974    0.0\n",
       "3975    0.0\n",
       "3976    0.0\n",
       "3977    0.0\n",
       "3978    0.0\n",
       "3979    0.0\n",
       "3980    0.0\n",
       "3981    0.0\n",
       "3982    0.0\n",
       "Name: pregnant, Length: 3983, dtype: float64"
      ]
     },
     "execution_count": 125,
     "metadata": {},
     "output_type": "execute_result"
    }
   ],
   "source": [
    "def normalize_pregnancy(x):\n",
    "    if not isinstance(x, str):\n",
    "        return x\n",
    "    x = re.sub(r\"^f$|(^F$)|(^FALSE$)\", r\"0\", x)\n",
    "    x = re.sub(r\"^t$|^T$|^TRUE$\", r\"1\", x)\n",
    "    return int(x)\n",
    "\n",
    "other_train.pregnant = other_train.pregnant.apply(normalize_pregnancy)\n",
    "other_valid.pregnant = other_valid.pregnant.apply(normalize_pregnancy)\n",
    "other_train.pregnant "
   ]
  },
  {
   "cell_type": "markdown",
   "metadata": {},
   "source": [
    "normalizacia udajov o tom ci je dany muz/zena tehotny"
   ]
  },
  {
   "cell_type": "code",
   "execution_count": 126,
   "metadata": {},
   "outputs": [
    {
     "data": {
      "text/plain": [
       "array([ 0.,  1., nan])"
      ]
     },
     "execution_count": 126,
     "metadata": {},
     "output_type": "execute_result"
    }
   ],
   "source": [
    "other_train['class'].unique()"
   ]
  },
  {
   "cell_type": "code",
   "execution_count": null,
   "metadata": {},
   "outputs": [],
   "source": []
  },
  {
   "cell_type": "code",
   "execution_count": 127,
   "metadata": {},
   "outputs": [
    {
     "data": {
      "text/html": [
       "<div>\n",
       "<style scoped>\n",
       "    .dataframe tbody tr th:only-of-type {\n",
       "        vertical-align: middle;\n",
       "    }\n",
       "\n",
       "    .dataframe tbody tr th {\n",
       "        vertical-align: top;\n",
       "    }\n",
       "\n",
       "    .dataframe thead th {\n",
       "        text-align: right;\n",
       "    }\n",
       "</style>\n",
       "<table border=\"1\" class=\"dataframe\">\n",
       "  <thead>\n",
       "    <tr style=\"text-align: right;\">\n",
       "      <th></th>\n",
       "      <th>name</th>\n",
       "      <th>address</th>\n",
       "      <th>kurtosis_oxygen</th>\n",
       "      <th>pregnant</th>\n",
       "      <th>education-num</th>\n",
       "      <th>relationship</th>\n",
       "      <th>skewness_glucose</th>\n",
       "      <th>mean_glucose</th>\n",
       "      <th>std_oxygen</th>\n",
       "      <th>capital-gain</th>\n",
       "      <th>...</th>\n",
       "      <th>kurtosis_glucose</th>\n",
       "      <th>personal_info</th>\n",
       "      <th>education</th>\n",
       "      <th>fnlwgt</th>\n",
       "      <th>class</th>\n",
       "      <th>std_glucose</th>\n",
       "      <th>income</th>\n",
       "      <th>mean_oxygen</th>\n",
       "      <th>hours-per-week</th>\n",
       "      <th>capital-loss</th>\n",
       "    </tr>\n",
       "  </thead>\n",
       "  <tbody>\n",
       "    <tr>\n",
       "      <th>0</th>\n",
       "      <td>Mathew Johnson</td>\n",
       "      <td>32873 Michelle Prairie Apt. 196\\r\\nNew Jessica...</td>\n",
       "      <td>1.429773</td>\n",
       "      <td>0.0</td>\n",
       "      <td>9.0</td>\n",
       "      <td>Not-in-family</td>\n",
       "      <td>0.127060565</td>\n",
       "      <td>157.664062</td>\n",
       "      <td>43.672966</td>\n",
       "      <td>0.0</td>\n",
       "      <td>...</td>\n",
       "      <td>-0.728489</td>\n",
       "      <td>Craft-repair|United-States\\r\\r\\nNever-married ...</td>\n",
       "      <td>HS-grad</td>\n",
       "      <td>208862.0</td>\n",
       "      <td>0.0</td>\n",
       "      <td>54.374896</td>\n",
       "      <td>&lt;=50K</td>\n",
       "      <td>28.038462</td>\n",
       "      <td>40.0</td>\n",
       "      <td>0.0</td>\n",
       "    </tr>\n",
       "    <tr>\n",
       "      <th>1</th>\n",
       "      <td>Ronald Lange</td>\n",
       "      <td>30973 Martinez Shores\\r\\nJameston, CA 70245</td>\n",
       "      <td>9.086361</td>\n",
       "      <td>0.0</td>\n",
       "      <td>10.0</td>\n",
       "      <td>Unmarried</td>\n",
       "      <td>-0.279978339</td>\n",
       "      <td>117.875000</td>\n",
       "      <td>15.103930</td>\n",
       "      <td>0.0</td>\n",
       "      <td>...</td>\n",
       "      <td>0.171736</td>\n",
       "      <td>Adm-clerical|United-States\\r\\r\\nDivorced -- Pr...</td>\n",
       "      <td>Some-college</td>\n",
       "      <td>109015.0</td>\n",
       "      <td>0.0</td>\n",
       "      <td>54.222775</td>\n",
       "      <td>&lt;=50K</td>\n",
       "      <td>2.596154</td>\n",
       "      <td>40.0</td>\n",
       "      <td>0.0</td>\n",
       "    </tr>\n",
       "    <tr>\n",
       "      <th>2</th>\n",
       "      <td>Larry Seider</td>\n",
       "      <td>919 Austin Wall\\r\\nJessicaview, MO 33808</td>\n",
       "      <td>8.666514</td>\n",
       "      <td>0.0</td>\n",
       "      <td>9.0</td>\n",
       "      <td>Husband</td>\n",
       "      <td>0.230722264</td>\n",
       "      <td>109.937500</td>\n",
       "      <td>15.166792</td>\n",
       "      <td>0.0</td>\n",
       "      <td>...</td>\n",
       "      <td>0.262268</td>\n",
       "      <td>Other-service|United-States\\r\\r\\nMarried-civ-s...</td>\n",
       "      <td>HS-grad</td>\n",
       "      <td>137674.0</td>\n",
       "      <td>0.0</td>\n",
       "      <td>46.742605</td>\n",
       "      <td>&lt;=50K</td>\n",
       "      <td>2.566054</td>\n",
       "      <td>40.0</td>\n",
       "      <td>0.0</td>\n",
       "    </tr>\n",
       "    <tr>\n",
       "      <th>3</th>\n",
       "      <td>Thomas Wise</td>\n",
       "      <td>39041 Graham Freeway\\r\\nJeanettefort, AK 59160</td>\n",
       "      <td>17.251642</td>\n",
       "      <td>0.0</td>\n",
       "      <td>9.0</td>\n",
       "      <td>Unmarried</td>\n",
       "      <td>0.867791138</td>\n",
       "      <td>98.882812</td>\n",
       "      <td>13.941180</td>\n",
       "      <td>0.0</td>\n",
       "      <td>...</td>\n",
       "      <td>0.529013</td>\n",
       "      <td>Exec-managerial|United-States\\r\\r\\nDivorced --...</td>\n",
       "      <td>HS-grad</td>\n",
       "      <td>97453.0</td>\n",
       "      <td>0.0</td>\n",
       "      <td>-4083.036957</td>\n",
       "      <td>&lt;=50K</td>\n",
       "      <td>0.806856</td>\n",
       "      <td>40.0</td>\n",
       "      <td>0.0</td>\n",
       "    </tr>\n",
       "    <tr>\n",
       "      <th>4</th>\n",
       "      <td>Marion Bursey</td>\n",
       "      <td>85508 Martin Villages\\r\\nJonathanshire, AL 29047</td>\n",
       "      <td>7.788552</td>\n",
       "      <td>0.0</td>\n",
       "      <td>9.0</td>\n",
       "      <td>Not-in-family</td>\n",
       "      <td>1.746993878</td>\n",
       "      <td>92.031250</td>\n",
       "      <td>16.477481</td>\n",
       "      <td>0.0</td>\n",
       "      <td>...</td>\n",
       "      <td>0.694631</td>\n",
       "      <td>Other-service|United-States\\r\\r\\nDivorced -- P...</td>\n",
       "      <td>HS-grad</td>\n",
       "      <td>191088.0</td>\n",
       "      <td>0.0</td>\n",
       "      <td>39.015609</td>\n",
       "      <td>&lt;=50K</td>\n",
       "      <td>2.987458</td>\n",
       "      <td>52.0</td>\n",
       "      <td>1741.0</td>\n",
       "    </tr>\n",
       "  </tbody>\n",
       "</table>\n",
       "<p>5 rows × 21 columns</p>\n",
       "</div>"
      ],
      "text/plain": [
       "             name                                            address  \\\n",
       "0  Mathew Johnson  32873 Michelle Prairie Apt. 196\\r\\nNew Jessica...   \n",
       "1    Ronald Lange        30973 Martinez Shores\\r\\nJameston, CA 70245   \n",
       "2    Larry Seider           919 Austin Wall\\r\\nJessicaview, MO 33808   \n",
       "3     Thomas Wise     39041 Graham Freeway\\r\\nJeanettefort, AK 59160   \n",
       "4   Marion Bursey   85508 Martin Villages\\r\\nJonathanshire, AL 29047   \n",
       "\n",
       "   kurtosis_oxygen  pregnant  education-num    relationship skewness_glucose  \\\n",
       "0         1.429773       0.0            9.0   Not-in-family      0.127060565   \n",
       "1         9.086361       0.0           10.0       Unmarried     -0.279978339   \n",
       "2         8.666514       0.0            9.0         Husband      0.230722264   \n",
       "3        17.251642       0.0            9.0       Unmarried      0.867791138   \n",
       "4         7.788552       0.0            9.0   Not-in-family      1.746993878   \n",
       "\n",
       "   mean_glucose  std_oxygen  capital-gain  ...  kurtosis_glucose  \\\n",
       "0    157.664062   43.672966           0.0  ...         -0.728489   \n",
       "1    117.875000   15.103930           0.0  ...          0.171736   \n",
       "2    109.937500   15.166792           0.0  ...          0.262268   \n",
       "3     98.882812   13.941180           0.0  ...          0.529013   \n",
       "4     92.031250   16.477481           0.0  ...          0.694631   \n",
       "\n",
       "                                       personal_info      education    fnlwgt  \\\n",
       "0  Craft-repair|United-States\\r\\r\\nNever-married ...        HS-grad  208862.0   \n",
       "1  Adm-clerical|United-States\\r\\r\\nDivorced -- Pr...   Some-college  109015.0   \n",
       "2  Other-service|United-States\\r\\r\\nMarried-civ-s...        HS-grad  137674.0   \n",
       "3  Exec-managerial|United-States\\r\\r\\nDivorced --...        HS-grad   97453.0   \n",
       "4  Other-service|United-States\\r\\r\\nDivorced -- P...        HS-grad  191088.0   \n",
       "\n",
       "   class  std_glucose  income mean_oxygen  hours-per-week  capital-loss  \n",
       "0    0.0    54.374896   <=50K   28.038462            40.0           0.0  \n",
       "1    0.0    54.222775   <=50K    2.596154            40.0           0.0  \n",
       "2    0.0    46.742605   <=50K    2.566054            40.0           0.0  \n",
       "3    0.0 -4083.036957   <=50K    0.806856            40.0           0.0  \n",
       "4    0.0    39.015609   <=50K    2.987458            52.0        1741.0  \n",
       "\n",
       "[5 rows x 21 columns]"
      ]
     },
     "execution_count": 127,
     "metadata": {},
     "output_type": "execute_result"
    }
   ],
   "source": [
    "other_train.head()"
   ]
  },
  {
   "cell_type": "code",
   "execution_count": 128,
   "metadata": {},
   "outputs": [
    {
     "data": {
      "text/html": [
       "<div>\n",
       "<style scoped>\n",
       "    .dataframe tbody tr th:only-of-type {\n",
       "        vertical-align: middle;\n",
       "    }\n",
       "\n",
       "    .dataframe tbody tr th {\n",
       "        vertical-align: top;\n",
       "    }\n",
       "\n",
       "    .dataframe thead th {\n",
       "        text-align: right;\n",
       "    }\n",
       "</style>\n",
       "<table border=\"1\" class=\"dataframe\">\n",
       "  <thead>\n",
       "    <tr style=\"text-align: right;\">\n",
       "      <th></th>\n",
       "      <th>kurtosis_oxygen</th>\n",
       "      <th>pregnant</th>\n",
       "      <th>education-num</th>\n",
       "      <th>mean_glucose</th>\n",
       "      <th>std_oxygen</th>\n",
       "      <th>capital-gain</th>\n",
       "      <th>skewness_oxygen</th>\n",
       "      <th>kurtosis_glucose</th>\n",
       "      <th>fnlwgt</th>\n",
       "      <th>class</th>\n",
       "      <th>std_glucose</th>\n",
       "      <th>mean_oxygen</th>\n",
       "      <th>hours-per-week</th>\n",
       "      <th>capital-loss</th>\n",
       "    </tr>\n",
       "  </thead>\n",
       "  <tbody>\n",
       "    <tr>\n",
       "      <th>kurtosis_oxygen</th>\n",
       "      <td>1.000000</td>\n",
       "      <td>0.026186</td>\n",
       "      <td>0.010934</td>\n",
       "      <td>0.473721</td>\n",
       "      <td>-0.843391</td>\n",
       "      <td>0.000166</td>\n",
       "      <td>0.917063</td>\n",
       "      <td>-0.528419</td>\n",
       "      <td>-0.014477</td>\n",
       "      <td>-0.556612</td>\n",
       "      <td>-0.009563</td>\n",
       "      <td>-0.661001</td>\n",
       "      <td>0.030341</td>\n",
       "      <td>0.019235</td>\n",
       "    </tr>\n",
       "    <tr>\n",
       "      <th>pregnant</th>\n",
       "      <td>0.026186</td>\n",
       "      <td>1.000000</td>\n",
       "      <td>-0.007251</td>\n",
       "      <td>0.000157</td>\n",
       "      <td>-0.021134</td>\n",
       "      <td>-0.014146</td>\n",
       "      <td>0.027582</td>\n",
       "      <td>-0.015595</td>\n",
       "      <td>-0.003645</td>\n",
       "      <td>-0.019003</td>\n",
       "      <td>-0.015864</td>\n",
       "      <td>-0.007628</td>\n",
       "      <td>-0.030792</td>\n",
       "      <td>0.005829</td>\n",
       "    </tr>\n",
       "    <tr>\n",
       "      <th>education-num</th>\n",
       "      <td>0.010934</td>\n",
       "      <td>-0.007251</td>\n",
       "      <td>1.000000</td>\n",
       "      <td>-0.006419</td>\n",
       "      <td>-0.021585</td>\n",
       "      <td>0.121260</td>\n",
       "      <td>0.005258</td>\n",
       "      <td>-0.003287</td>\n",
       "      <td>-0.043830</td>\n",
       "      <td>-0.012740</td>\n",
       "      <td>-0.006118</td>\n",
       "      <td>-0.008684</td>\n",
       "      <td>0.170625</td>\n",
       "      <td>0.086869</td>\n",
       "    </tr>\n",
       "    <tr>\n",
       "      <th>mean_glucose</th>\n",
       "      <td>0.473721</td>\n",
       "      <td>0.000157</td>\n",
       "      <td>-0.006419</td>\n",
       "      <td>1.000000</td>\n",
       "      <td>-0.560014</td>\n",
       "      <td>-0.004520</td>\n",
       "      <td>0.306320</td>\n",
       "      <td>-0.926100</td>\n",
       "      <td>0.012988</td>\n",
       "      <td>-0.773304</td>\n",
       "      <td>0.004793</td>\n",
       "      <td>-0.541431</td>\n",
       "      <td>0.018240</td>\n",
       "      <td>-0.004923</td>\n",
       "    </tr>\n",
       "    <tr>\n",
       "      <th>std_oxygen</th>\n",
       "      <td>-0.843391</td>\n",
       "      <td>-0.021134</td>\n",
       "      <td>-0.021585</td>\n",
       "      <td>-0.560014</td>\n",
       "      <td>1.000000</td>\n",
       "      <td>-0.006693</td>\n",
       "      <td>-0.605169</td>\n",
       "      <td>0.618290</td>\n",
       "      <td>0.008716</td>\n",
       "      <td>0.649126</td>\n",
       "      <td>0.010601</td>\n",
       "      <td>0.801133</td>\n",
       "      <td>-0.032102</td>\n",
       "      <td>-0.004863</td>\n",
       "    </tr>\n",
       "    <tr>\n",
       "      <th>capital-gain</th>\n",
       "      <td>0.000166</td>\n",
       "      <td>-0.014146</td>\n",
       "      <td>0.121260</td>\n",
       "      <td>-0.004520</td>\n",
       "      <td>-0.006693</td>\n",
       "      <td>1.000000</td>\n",
       "      <td>-0.000482</td>\n",
       "      <td>0.000283</td>\n",
       "      <td>-0.008541</td>\n",
       "      <td>-0.002218</td>\n",
       "      <td>0.034216</td>\n",
       "      <td>-0.010058</td>\n",
       "      <td>0.087539</td>\n",
       "      <td>-0.030236</td>\n",
       "    </tr>\n",
       "    <tr>\n",
       "      <th>skewness_oxygen</th>\n",
       "      <td>0.917063</td>\n",
       "      <td>0.027582</td>\n",
       "      <td>0.005258</td>\n",
       "      <td>0.306320</td>\n",
       "      <td>-0.605169</td>\n",
       "      <td>-0.000482</td>\n",
       "      <td>1.000000</td>\n",
       "      <td>-0.345074</td>\n",
       "      <td>-0.012687</td>\n",
       "      <td>-0.390437</td>\n",
       "      <td>-0.008435</td>\n",
       "      <td>-0.396302</td>\n",
       "      <td>0.022910</td>\n",
       "      <td>0.026222</td>\n",
       "    </tr>\n",
       "    <tr>\n",
       "      <th>kurtosis_glucose</th>\n",
       "      <td>-0.528419</td>\n",
       "      <td>-0.015595</td>\n",
       "      <td>-0.003287</td>\n",
       "      <td>-0.926100</td>\n",
       "      <td>0.618290</td>\n",
       "      <td>0.000283</td>\n",
       "      <td>-0.345074</td>\n",
       "      <td>1.000000</td>\n",
       "      <td>-0.007165</td>\n",
       "      <td>0.788486</td>\n",
       "      <td>0.003362</td>\n",
       "      <td>0.592268</td>\n",
       "      <td>-0.027646</td>\n",
       "      <td>0.000425</td>\n",
       "    </tr>\n",
       "    <tr>\n",
       "      <th>fnlwgt</th>\n",
       "      <td>-0.014477</td>\n",
       "      <td>-0.003645</td>\n",
       "      <td>-0.043830</td>\n",
       "      <td>0.012988</td>\n",
       "      <td>0.008716</td>\n",
       "      <td>-0.008541</td>\n",
       "      <td>-0.012687</td>\n",
       "      <td>-0.007165</td>\n",
       "      <td>1.000000</td>\n",
       "      <td>-0.005010</td>\n",
       "      <td>-0.022075</td>\n",
       "      <td>-0.004626</td>\n",
       "      <td>-0.050839</td>\n",
       "      <td>-0.013609</td>\n",
       "    </tr>\n",
       "    <tr>\n",
       "      <th>class</th>\n",
       "      <td>-0.556612</td>\n",
       "      <td>-0.019003</td>\n",
       "      <td>-0.012740</td>\n",
       "      <td>-0.773304</td>\n",
       "      <td>0.649126</td>\n",
       "      <td>-0.002218</td>\n",
       "      <td>-0.390437</td>\n",
       "      <td>0.788486</td>\n",
       "      <td>-0.005010</td>\n",
       "      <td>1.000000</td>\n",
       "      <td>0.002138</td>\n",
       "      <td>0.517135</td>\n",
       "      <td>-0.010288</td>\n",
       "      <td>-0.008099</td>\n",
       "    </tr>\n",
       "    <tr>\n",
       "      <th>std_glucose</th>\n",
       "      <td>-0.009563</td>\n",
       "      <td>-0.015864</td>\n",
       "      <td>-0.006118</td>\n",
       "      <td>0.004793</td>\n",
       "      <td>0.010601</td>\n",
       "      <td>0.034216</td>\n",
       "      <td>-0.008435</td>\n",
       "      <td>0.003362</td>\n",
       "      <td>-0.022075</td>\n",
       "      <td>0.002138</td>\n",
       "      <td>1.000000</td>\n",
       "      <td>-0.000156</td>\n",
       "      <td>-0.002054</td>\n",
       "      <td>0.009961</td>\n",
       "    </tr>\n",
       "    <tr>\n",
       "      <th>mean_oxygen</th>\n",
       "      <td>-0.661001</td>\n",
       "      <td>-0.007628</td>\n",
       "      <td>-0.008684</td>\n",
       "      <td>-0.541431</td>\n",
       "      <td>0.801133</td>\n",
       "      <td>-0.010058</td>\n",
       "      <td>-0.396302</td>\n",
       "      <td>0.592268</td>\n",
       "      <td>-0.004626</td>\n",
       "      <td>0.517135</td>\n",
       "      <td>-0.000156</td>\n",
       "      <td>1.000000</td>\n",
       "      <td>-0.026142</td>\n",
       "      <td>-0.017469</td>\n",
       "    </tr>\n",
       "    <tr>\n",
       "      <th>hours-per-week</th>\n",
       "      <td>0.030341</td>\n",
       "      <td>-0.030792</td>\n",
       "      <td>0.170625</td>\n",
       "      <td>0.018240</td>\n",
       "      <td>-0.032102</td>\n",
       "      <td>0.087539</td>\n",
       "      <td>0.022910</td>\n",
       "      <td>-0.027646</td>\n",
       "      <td>-0.050839</td>\n",
       "      <td>-0.010288</td>\n",
       "      <td>-0.002054</td>\n",
       "      <td>-0.026142</td>\n",
       "      <td>1.000000</td>\n",
       "      <td>0.053479</td>\n",
       "    </tr>\n",
       "    <tr>\n",
       "      <th>capital-loss</th>\n",
       "      <td>0.019235</td>\n",
       "      <td>0.005829</td>\n",
       "      <td>0.086869</td>\n",
       "      <td>-0.004923</td>\n",
       "      <td>-0.004863</td>\n",
       "      <td>-0.030236</td>\n",
       "      <td>0.026222</td>\n",
       "      <td>0.000425</td>\n",
       "      <td>-0.013609</td>\n",
       "      <td>-0.008099</td>\n",
       "      <td>0.009961</td>\n",
       "      <td>-0.017469</td>\n",
       "      <td>0.053479</td>\n",
       "      <td>1.000000</td>\n",
       "    </tr>\n",
       "  </tbody>\n",
       "</table>\n",
       "</div>"
      ],
      "text/plain": [
       "                  kurtosis_oxygen  pregnant  education-num  mean_glucose  \\\n",
       "kurtosis_oxygen          1.000000  0.026186       0.010934      0.473721   \n",
       "pregnant                 0.026186  1.000000      -0.007251      0.000157   \n",
       "education-num            0.010934 -0.007251       1.000000     -0.006419   \n",
       "mean_glucose             0.473721  0.000157      -0.006419      1.000000   \n",
       "std_oxygen              -0.843391 -0.021134      -0.021585     -0.560014   \n",
       "capital-gain             0.000166 -0.014146       0.121260     -0.004520   \n",
       "skewness_oxygen          0.917063  0.027582       0.005258      0.306320   \n",
       "kurtosis_glucose        -0.528419 -0.015595      -0.003287     -0.926100   \n",
       "fnlwgt                  -0.014477 -0.003645      -0.043830      0.012988   \n",
       "class                   -0.556612 -0.019003      -0.012740     -0.773304   \n",
       "std_glucose             -0.009563 -0.015864      -0.006118      0.004793   \n",
       "mean_oxygen             -0.661001 -0.007628      -0.008684     -0.541431   \n",
       "hours-per-week           0.030341 -0.030792       0.170625      0.018240   \n",
       "capital-loss             0.019235  0.005829       0.086869     -0.004923   \n",
       "\n",
       "                  std_oxygen  capital-gain  skewness_oxygen  kurtosis_glucose  \\\n",
       "kurtosis_oxygen    -0.843391      0.000166         0.917063         -0.528419   \n",
       "pregnant           -0.021134     -0.014146         0.027582         -0.015595   \n",
       "education-num      -0.021585      0.121260         0.005258         -0.003287   \n",
       "mean_glucose       -0.560014     -0.004520         0.306320         -0.926100   \n",
       "std_oxygen          1.000000     -0.006693        -0.605169          0.618290   \n",
       "capital-gain       -0.006693      1.000000        -0.000482          0.000283   \n",
       "skewness_oxygen    -0.605169     -0.000482         1.000000         -0.345074   \n",
       "kurtosis_glucose    0.618290      0.000283        -0.345074          1.000000   \n",
       "fnlwgt              0.008716     -0.008541        -0.012687         -0.007165   \n",
       "class               0.649126     -0.002218        -0.390437          0.788486   \n",
       "std_glucose         0.010601      0.034216        -0.008435          0.003362   \n",
       "mean_oxygen         0.801133     -0.010058        -0.396302          0.592268   \n",
       "hours-per-week     -0.032102      0.087539         0.022910         -0.027646   \n",
       "capital-loss       -0.004863     -0.030236         0.026222          0.000425   \n",
       "\n",
       "                    fnlwgt     class  std_glucose  mean_oxygen  \\\n",
       "kurtosis_oxygen  -0.014477 -0.556612    -0.009563    -0.661001   \n",
       "pregnant         -0.003645 -0.019003    -0.015864    -0.007628   \n",
       "education-num    -0.043830 -0.012740    -0.006118    -0.008684   \n",
       "mean_glucose      0.012988 -0.773304     0.004793    -0.541431   \n",
       "std_oxygen        0.008716  0.649126     0.010601     0.801133   \n",
       "capital-gain     -0.008541 -0.002218     0.034216    -0.010058   \n",
       "skewness_oxygen  -0.012687 -0.390437    -0.008435    -0.396302   \n",
       "kurtosis_glucose -0.007165  0.788486     0.003362     0.592268   \n",
       "fnlwgt            1.000000 -0.005010    -0.022075    -0.004626   \n",
       "class            -0.005010  1.000000     0.002138     0.517135   \n",
       "std_glucose      -0.022075  0.002138     1.000000    -0.000156   \n",
       "mean_oxygen      -0.004626  0.517135    -0.000156     1.000000   \n",
       "hours-per-week   -0.050839 -0.010288    -0.002054    -0.026142   \n",
       "capital-loss     -0.013609 -0.008099     0.009961    -0.017469   \n",
       "\n",
       "                  hours-per-week  capital-loss  \n",
       "kurtosis_oxygen         0.030341      0.019235  \n",
       "pregnant               -0.030792      0.005829  \n",
       "education-num           0.170625      0.086869  \n",
       "mean_glucose            0.018240     -0.004923  \n",
       "std_oxygen             -0.032102     -0.004863  \n",
       "capital-gain            0.087539     -0.030236  \n",
       "skewness_oxygen         0.022910      0.026222  \n",
       "kurtosis_glucose       -0.027646      0.000425  \n",
       "fnlwgt                 -0.050839     -0.013609  \n",
       "class                  -0.010288     -0.008099  \n",
       "std_glucose            -0.002054      0.009961  \n",
       "mean_oxygen            -0.026142     -0.017469  \n",
       "hours-per-week          1.000000      0.053479  \n",
       "capital-loss            0.053479      1.000000  "
      ]
     },
     "execution_count": 128,
     "metadata": {},
     "output_type": "execute_result"
    }
   ],
   "source": [
    "other_train.corr()"
   ]
  },
  {
   "cell_type": "code",
   "execution_count": 129,
   "metadata": {},
   "outputs": [
    {
     "data": {
      "text/plain": [
       "<matplotlib.axes._subplots.AxesSubplot at 0x22271e037b8>"
      ]
     },
     "execution_count": 129,
     "metadata": {},
     "output_type": "execute_result"
    },
    {
     "data": {
      "image/png": "[encoded data removed]",
      "text/plain": [
       "<Figure size 432x288 with 1 Axes>"
      ]
     },
     "metadata": {
      "needs_background": "light"
     },
     "output_type": "display_data"
    }
   ],
   "source": [
    "age_count_train = personal_train.groupby([\"age\"]).count()\n",
    "age_count_train = pd.DataFrame(age_count_train['name'])\n",
    "age_count_train = age_count_train.rename(columns = {\"name\":\"count\"})\n",
    "\n",
    "\n",
    "sb.lineplot(data = age_count_train)\n"
   ]
  },
  {
   "cell_type": "code",
   "execution_count": 130,
   "metadata": {},
   "outputs": [
    {
     "data": {
      "text/plain": [
       "<matplotlib.axes._subplots.AxesSubplot at 0x22271a49940>"
      ]
     },
     "execution_count": 130,
     "metadata": {},
     "output_type": "execute_result"
    },
    {
     "data": {
      "image/png": "[encoded data removed]",
      "text/plain": [
       "<Figure size 432x288 with 1 Axes>"
      ]
     },
     "metadata": {
      "needs_background": "light"
     },
     "output_type": "display_data"
    }
   ],
   "source": [
    "sb.distplot(personal_train.age, bins=30)"
   ]
  },
  {
   "cell_type": "markdown",
   "metadata": {},
   "source": [
    "graf zobrazuje vekove rozpolozenie vzorky ludi z datasetu train\n"
   ]
  },
  {
   "cell_type": "code",
   "execution_count": 131,
   "metadata": {},
   "outputs": [
    {
     "data": {
      "text/plain": [
       "<matplotlib.axes._subplots.AxesSubplot at 0x22271e6cba8>"
      ]
     },
     "execution_count": 131,
     "metadata": {},
     "output_type": "execute_result"
    },
    {
     "data": {
      "image/png": "[encoded data removed]",
      "text/plain": [
       "<Figure size 432x288 with 1 Axes>"
      ]
     },
     "metadata": {
      "needs_background": "light"
     },
     "output_type": "display_data"
    }
   ],
   "source": [
    "age_count_valid = personal_valid.groupby([\"age\"]).count()\n",
    "age_count_valid = pd.DataFrame(age_count_valid['name'])\n",
    "age_count_valid = age_count_valid.rename(columns = {\"name\":\"count\"})\n",
    "\n",
    "\n",
    "sb.lineplot(data = age_count_valid)"
   ]
  },
  {
   "cell_type": "code",
   "execution_count": 132,
   "metadata": {},
   "outputs": [
    {
     "data": {
      "text/plain": [
       "<matplotlib.axes._subplots.AxesSubplot at 0x22271edb080>"
      ]
     },
     "execution_count": 132,
     "metadata": {},
     "output_type": "execute_result"
    },
    {
     "data": {
      "image/png": "[encoded data removed]",
      "text/plain": [
       "<Figure size 432x288 with 1 Axes>"
      ]
     },
     "metadata": {
      "needs_background": "light"
     },
     "output_type": "display_data"
    }
   ],
   "source": [
    "sb.distplot(personal_valid.age, bins=30)"
   ]
  },
  {
   "cell_type": "markdown",
   "metadata": {},
   "source": [
    "graf zobrazuje vekove rozpolozenie vzorky ludi z datasetu valid"
   ]
  },
  {
   "cell_type": "code",
   "execution_count": 133,
   "metadata": {},
   "outputs": [
    {
     "data": {
      "text/plain": [
       "array([' Female', ' Male'], dtype=object)"
      ]
     },
     "execution_count": 133,
     "metadata": {},
     "output_type": "execute_result"
    }
   ],
   "source": [
    "personal_train['sex'].unique()"
   ]
  },
  {
   "cell_type": "code",
   "execution_count": 134,
   "metadata": {},
   "outputs": [
    {
     "name": "stderr",
     "output_type": "stream",
     "text": [
      "D:\\anaconda\\lib\\site-packages\\ipykernel_launcher.py:7: MatplotlibDeprecationWarning: Non-1D inputs to pie() are currently squeeze()d, but this behavior is deprecated since 3.1 and will be removed in 3.3; pass a 1D array instead.\n",
      "  import sys\n"
     ]
    },
    {
     "data": {
      "text/plain": [
       "([<matplotlib.patches.Wedge at 0x22271fb5a20>,\n",
       "  <matplotlib.patches.Wedge at 0x22271fb5f60>],\n",
       " [Text(0.5925135585620777, 1.043516977782395, ' Female'),\n",
       "  Text(-0.5431374286819051, -0.9565572296338618, ' Male')])"
      ]
     },
     "execution_count": 134,
     "metadata": {},
     "output_type": "execute_result"
    },
    {
     "data": {
      "image/png": "[encoded data removed]",
      "text/plain": [
       "<Figure size 432x288 with 1 Axes>"
      ]
     },
     "metadata": {},
     "output_type": "display_data"
    }
   ],
   "source": [
    "sex_count_train = personal_train.groupby([\"sex\"]).count()\n",
    "sex_count_train = pd.DataFrame(sex_count_train['name'])\n",
    "sex_count_train = sex_count_train.rename(columns = {\"name\":\"count\"})\n",
    "sex_count_train\n",
    "explode = (0.1,  0)\n",
    "\n",
    "plt.pie( sex_count_train, explode=explode, labels = sex_count_train.index.values)"
   ]
  },
  {
   "cell_type": "code",
   "execution_count": 135,
   "metadata": {},
   "outputs": [
    {
     "name": "stderr",
     "output_type": "stream",
     "text": [
      "D:\\anaconda\\lib\\site-packages\\ipykernel_launcher.py:7: MatplotlibDeprecationWarning: Non-1D inputs to pie() are currently squeeze()d, but this behavior is deprecated since 3.1 and will be removed in 3.3; pass a 1D array instead.\n",
      "  import sys\n"
     ]
    },
    {
     "data": {
      "text/plain": [
       "([<matplotlib.patches.Wedge at 0x22271fff208>,\n",
       "  <matplotlib.patches.Wedge at 0x22271fff748>],\n",
       " [Text(0.5925135585620777, 1.043516977782395, ' Female'),\n",
       "  Text(-0.5431374286819051, -0.9565572296338618, ' Male')])"
      ]
     },
     "execution_count": 135,
     "metadata": {},
     "output_type": "execute_result"
    },
    {
     "data": {
      "image/png": "[encoded data removed]",
      "text/plain": [
       "<Figure size 432x288 with 1 Axes>"
      ]
     },
     "metadata": {},
     "output_type": "display_data"
    }
   ],
   "source": [
    "sex_count_valid = personal_valid.groupby([\"sex\"]).count()\n",
    "sex_count_valid = pd.DataFrame(sex_count_valid['name'])\n",
    "sex_count_valid = sex_count_valid.rename(columns = {\"name\":\"count\"})\n",
    "sex_count_valid\n",
    "explode = (0.1,  0)\n",
    "\n",
    "plt.pie( sex_count_train, explode=explode, labels = sex_count_valid.index.values)"
   ]
  },
  {
   "cell_type": "markdown",
   "metadata": {},
   "source": [
    "graf zobrazuje pocetnost pohlavi v datasetoch"
   ]
  },
  {
   "cell_type": "code",
   "execution_count": 140,
   "metadata": {
    "scrolled": true
   },
   "outputs": [
    {
     "data": {
      "text/plain": [
       "0        <=50K\n",
       "1        <=50K\n",
       "2        <=50K\n",
       "3        <=50K\n",
       "4        <=50K\n",
       "5        <=50K\n",
       "6        <=50K\n",
       "7        <=50K\n",
       "8        <=50K\n",
       "9        <=50K\n",
       "10       <=50K\n",
       "11       <=50K\n",
       "12        >50K\n",
       "13       <=50K\n",
       "14       <=50K\n",
       "15       <=50K\n",
       "16        >50K\n",
       "17       <=50K\n",
       "18        >50K\n",
       "19       <=50K\n",
       "20       <=50K\n",
       "21       <=50K\n",
       "22        >50K\n",
       "23        >50K\n",
       "24       <=50K\n",
       "25       <=50K\n",
       "26        >50K\n",
       "27        >50K\n",
       "28       <=50K\n",
       "29       <=50K\n",
       "         ...  \n",
       "3953     <=50K\n",
       "3954     <=50K\n",
       "3955      >50K\n",
       "3956     <=50K\n",
       "3957     <=50K\n",
       "3958     <=50K\n",
       "3959     <=50K\n",
       "3960     <=50K\n",
       "3961     <=50K\n",
       "3962     <=50K\n",
       "3963     <=50K\n",
       "3964     <=50K\n",
       "3965     <=50K\n",
       "3966      >50K\n",
       "3967     <=50K\n",
       "3968     <=50K\n",
       "3969     <=50K\n",
       "3970     <=50K\n",
       "3971     <=50K\n",
       "3972      >50K\n",
       "3973     <=50K\n",
       "3974     <=50K\n",
       "3975     <=50K\n",
       "3976     <=50K\n",
       "3977     <=50K\n",
       "3978     <=50K\n",
       "3979      >50K\n",
       "3980     <=50K\n",
       "3981     <=50K\n",
       "3982      >50K\n",
       "Name: income, Length: 3983, dtype: object"
      ]
     },
     "execution_count": 140,
     "metadata": {},
     "output_type": "execute_result"
    }
   ],
   "source": [
    "other_train.income"
   ]
  },
  {
   "cell_type": "code",
   "execution_count": 137,
   "metadata": {},
   "outputs": [
    {
     "data": {
      "text/plain": [
       "<matplotlib.axes._subplots.AxesSubplot at 0x222720173c8>"
      ]
     },
     "execution_count": 137,
     "metadata": {},
     "output_type": "execute_result"
    },
    {
     "data": {
      "image/png": "[encoded data removed]",
      "text/plain": [
       "<Figure size 432x288 with 1 Axes>"
      ]
     },
     "metadata": {
      "needs_background": "light"
     },
     "output_type": "display_data"
    }
   ],
   "source": [
    "other_train.relationship.value_counts().plot(kind = 'bar')"
   ]
  },
  {
   "cell_type": "code",
   "execution_count": 138,
   "metadata": {},
   "outputs": [
    {
     "data": {
      "text/plain": [
       "<matplotlib.axes._subplots.AxesSubplot at 0x2227208b9b0>"
      ]
     },
     "execution_count": 138,
     "metadata": {},
     "output_type": "execute_result"
    },
    {
     "data": {
      "image/png": "[encoded data removed]",
      "text/plain": [
       "<Figure size 432x288 with 1 Axes>"
      ]
     },
     "metadata": {
      "needs_background": "light"
     },
     "output_type": "display_data"
    }
   ],
   "source": [
    "other_valid.relationship.value_counts().plot(kind = 'bar')"
   ]
  },
  {
   "cell_type": "markdown",
   "metadata": {},
   "source": [
    "graf zobrazuje pocetnost atributov relationship v datasetoch\n"
   ]
  },
  {
   "cell_type": "code",
   "execution_count": 153,
   "metadata": {},
   "outputs": [
    {
     "name": "stderr",
     "output_type": "stream",
     "text": [
      "D:\\anaconda\\lib\\site-packages\\ipykernel_launcher.py:8: MatplotlibDeprecationWarning: Non-1D inputs to pie() are currently squeeze()d, but this behavior is deprecated since 3.1 and will be removed in 3.3; pass a 1D array instead.\n",
      "  \n"
     ]
    },
    {
     "data": {
      "text/plain": [
       "([<matplotlib.patches.Wedge at 0x222722f1e80>,\n",
       "  <matplotlib.patches.Wedge at 0x222722fe400>],\n",
       " [Text(-0.8539529432699178, 0.8430684258591616, ' <=50K'),\n",
       "  Text(0.7827901979974247, -0.7728127237042316, ' >50K')])"
      ]
     },
     "execution_count": 153,
     "metadata": {},
     "output_type": "execute_result"
    },
    {
     "data": {
      "image/png": "[encoded data removed]",
      "text/plain": [
       "<Figure size 432x288 with 1 Axes>"
      ]
     },
     "metadata": {},
     "output_type": "display_data"
    }
   ],
   "source": [
    "income_count_valid = other_valid.groupby([\"income\"]).count()\n",
    "income_count_valid = pd.DataFrame(income_count_valid['name'])\n",
    "income_count_valid = income_count_valid.rename(columns = {\"name\":\"count\"})\n",
    "\n",
    "explode = (0.1,  0)\n",
    "income_count_valid\n",
    "\n",
    "plt.pie( income_count_valid, explode=explode, labels = income_count_valid.index.values)"
   ]
  },
  {
   "cell_type": "code",
   "execution_count": 154,
   "metadata": {},
   "outputs": [
    {
     "name": "stderr",
     "output_type": "stream",
     "text": [
      "D:\\anaconda\\lib\\site-packages\\ipykernel_launcher.py:8: MatplotlibDeprecationWarning: Non-1D inputs to pie() are currently squeeze()d, but this behavior is deprecated since 3.1 and will be removed in 3.3; pass a 1D array instead.\n",
      "  \n"
     ]
    },
    {
     "data": {
      "text/plain": [
       "([<matplotlib.patches.Wedge at 0x2227233e668>,\n",
       "  <matplotlib.patches.Wedge at 0x2227233eb70>],\n",
       " [Text(-0.8721844665798157, 0.8241930940361502, ' <=50K'),\n",
       "  Text(0.7995023569621783, -0.7555104110546206, ' >50K')])"
      ]
     },
     "execution_count": 154,
     "metadata": {},
     "output_type": "execute_result"
    },
    {
     "data": {
      "image/png": "[encoded data removed]",
      "text/plain": [
       "<Figure size 432x288 with 1 Axes>"
      ]
     },
     "metadata": {},
     "output_type": "display_data"
    }
   ],
   "source": [
    "income_count_train = other_train.groupby([\"income\"]).count()\n",
    "income_count_train = pd.DataFrame(income_count_train['name'])\n",
    "income_count_train = income_count_train.rename(columns = {\"name\":\"count\"})\n",
    "\n",
    "explode = (0.1,  0)\n",
    "\n",
    "\n",
    "plt.pie( income_count_train, explode=explode, labels = income_count_valid.index.values)"
   ]
  },
  {
   "cell_type": "code",
   "execution_count": 155,
   "metadata": {},
   "outputs": [
    {
     "data": {
      "text/html": [
       "<div>\n",
       "<style scoped>\n",
       "    .dataframe tbody tr th:only-of-type {\n",
       "        vertical-align: middle;\n",
       "    }\n",
       "\n",
       "    .dataframe tbody tr th {\n",
       "        vertical-align: top;\n",
       "    }\n",
       "\n",
       "    .dataframe thead th {\n",
       "        text-align: right;\n",
       "    }\n",
       "</style>\n",
       "<table border=\"1\" class=\"dataframe\">\n",
       "  <thead>\n",
       "    <tr style=\"text-align: right;\">\n",
       "      <th></th>\n",
       "      <th>kurtosis_oxygen</th>\n",
       "      <th>pregnant</th>\n",
       "      <th>education-num</th>\n",
       "      <th>mean_glucose</th>\n",
       "      <th>std_oxygen</th>\n",
       "      <th>capital-gain</th>\n",
       "      <th>skewness_oxygen</th>\n",
       "      <th>kurtosis_glucose</th>\n",
       "      <th>fnlwgt</th>\n",
       "      <th>class</th>\n",
       "      <th>std_glucose</th>\n",
       "      <th>mean_oxygen</th>\n",
       "      <th>hours-per-week</th>\n",
       "      <th>capital-loss</th>\n",
       "    </tr>\n",
       "  </thead>\n",
       "  <tbody>\n",
       "    <tr>\n",
       "      <th>kurtosis_oxygen</th>\n",
       "      <td>1.000000</td>\n",
       "      <td>0.026186</td>\n",
       "      <td>0.010934</td>\n",
       "      <td>0.473721</td>\n",
       "      <td>-0.843391</td>\n",
       "      <td>0.000166</td>\n",
       "      <td>0.917063</td>\n",
       "      <td>-0.528419</td>\n",
       "      <td>-0.014477</td>\n",
       "      <td>-0.556612</td>\n",
       "      <td>-0.009563</td>\n",
       "      <td>-0.661001</td>\n",
       "      <td>0.030341</td>\n",
       "      <td>0.019235</td>\n",
       "    </tr>\n",
       "    <tr>\n",
       "      <th>pregnant</th>\n",
       "      <td>0.026186</td>\n",
       "      <td>1.000000</td>\n",
       "      <td>-0.007251</td>\n",
       "      <td>0.000157</td>\n",
       "      <td>-0.021134</td>\n",
       "      <td>-0.014146</td>\n",
       "      <td>0.027582</td>\n",
       "      <td>-0.015595</td>\n",
       "      <td>-0.003645</td>\n",
       "      <td>-0.019003</td>\n",
       "      <td>-0.015864</td>\n",
       "      <td>-0.007628</td>\n",
       "      <td>-0.030792</td>\n",
       "      <td>0.005829</td>\n",
       "    </tr>\n",
       "    <tr>\n",
       "      <th>education-num</th>\n",
       "      <td>0.010934</td>\n",
       "      <td>-0.007251</td>\n",
       "      <td>1.000000</td>\n",
       "      <td>-0.006419</td>\n",
       "      <td>-0.021585</td>\n",
       "      <td>0.121260</td>\n",
       "      <td>0.005258</td>\n",
       "      <td>-0.003287</td>\n",
       "      <td>-0.043830</td>\n",
       "      <td>-0.012740</td>\n",
       "      <td>-0.006118</td>\n",
       "      <td>-0.008684</td>\n",
       "      <td>0.170625</td>\n",
       "      <td>0.086869</td>\n",
       "    </tr>\n",
       "    <tr>\n",
       "      <th>mean_glucose</th>\n",
       "      <td>0.473721</td>\n",
       "      <td>0.000157</td>\n",
       "      <td>-0.006419</td>\n",
       "      <td>1.000000</td>\n",
       "      <td>-0.560014</td>\n",
       "      <td>-0.004520</td>\n",
       "      <td>0.306320</td>\n",
       "      <td>-0.926100</td>\n",
       "      <td>0.012988</td>\n",
       "      <td>-0.773304</td>\n",
       "      <td>0.004793</td>\n",
       "      <td>-0.541431</td>\n",
       "      <td>0.018240</td>\n",
       "      <td>-0.004923</td>\n",
       "    </tr>\n",
       "    <tr>\n",
       "      <th>std_oxygen</th>\n",
       "      <td>-0.843391</td>\n",
       "      <td>-0.021134</td>\n",
       "      <td>-0.021585</td>\n",
       "      <td>-0.560014</td>\n",
       "      <td>1.000000</td>\n",
       "      <td>-0.006693</td>\n",
       "      <td>-0.605169</td>\n",
       "      <td>0.618290</td>\n",
       "      <td>0.008716</td>\n",
       "      <td>0.649126</td>\n",
       "      <td>0.010601</td>\n",
       "      <td>0.801133</td>\n",
       "      <td>-0.032102</td>\n",
       "      <td>-0.004863</td>\n",
       "    </tr>\n",
       "    <tr>\n",
       "      <th>capital-gain</th>\n",
       "      <td>0.000166</td>\n",
       "      <td>-0.014146</td>\n",
       "      <td>0.121260</td>\n",
       "      <td>-0.004520</td>\n",
       "      <td>-0.006693</td>\n",
       "      <td>1.000000</td>\n",
       "      <td>-0.000482</td>\n",
       "      <td>0.000283</td>\n",
       "      <td>-0.008541</td>\n",
       "      <td>-0.002218</td>\n",
       "      <td>0.034216</td>\n",
       "      <td>-0.010058</td>\n",
       "      <td>0.087539</td>\n",
       "      <td>-0.030236</td>\n",
       "    </tr>\n",
       "    <tr>\n",
       "      <th>skewness_oxygen</th>\n",
       "      <td>0.917063</td>\n",
       "      <td>0.027582</td>\n",
       "      <td>0.005258</td>\n",
       "      <td>0.306320</td>\n",
       "      <td>-0.605169</td>\n",
       "      <td>-0.000482</td>\n",
       "      <td>1.000000</td>\n",
       "      <td>-0.345074</td>\n",
       "      <td>-0.012687</td>\n",
       "      <td>-0.390437</td>\n",
       "      <td>-0.008435</td>\n",
       "      <td>-0.396302</td>\n",
       "      <td>0.022910</td>\n",
       "      <td>0.026222</td>\n",
       "    </tr>\n",
       "    <tr>\n",
       "      <th>kurtosis_glucose</th>\n",
       "      <td>-0.528419</td>\n",
       "      <td>-0.015595</td>\n",
       "      <td>-0.003287</td>\n",
       "      <td>-0.926100</td>\n",
       "      <td>0.618290</td>\n",
       "      <td>0.000283</td>\n",
       "      <td>-0.345074</td>\n",
       "      <td>1.000000</td>\n",
       "      <td>-0.007165</td>\n",
       "      <td>0.788486</td>\n",
       "      <td>0.003362</td>\n",
       "      <td>0.592268</td>\n",
       "      <td>-0.027646</td>\n",
       "      <td>0.000425</td>\n",
       "    </tr>\n",
       "    <tr>\n",
       "      <th>fnlwgt</th>\n",
       "      <td>-0.014477</td>\n",
       "      <td>-0.003645</td>\n",
       "      <td>-0.043830</td>\n",
       "      <td>0.012988</td>\n",
       "      <td>0.008716</td>\n",
       "      <td>-0.008541</td>\n",
       "      <td>-0.012687</td>\n",
       "      <td>-0.007165</td>\n",
       "      <td>1.000000</td>\n",
       "      <td>-0.005010</td>\n",
       "      <td>-0.022075</td>\n",
       "      <td>-0.004626</td>\n",
       "      <td>-0.050839</td>\n",
       "      <td>-0.013609</td>\n",
       "    </tr>\n",
       "    <tr>\n",
       "      <th>class</th>\n",
       "      <td>-0.556612</td>\n",
       "      <td>-0.019003</td>\n",
       "      <td>-0.012740</td>\n",
       "      <td>-0.773304</td>\n",
       "      <td>0.649126</td>\n",
       "      <td>-0.002218</td>\n",
       "      <td>-0.390437</td>\n",
       "      <td>0.788486</td>\n",
       "      <td>-0.005010</td>\n",
       "      <td>1.000000</td>\n",
       "      <td>0.002138</td>\n",
       "      <td>0.517135</td>\n",
       "      <td>-0.010288</td>\n",
       "      <td>-0.008099</td>\n",
       "    </tr>\n",
       "    <tr>\n",
       "      <th>std_glucose</th>\n",
       "      <td>-0.009563</td>\n",
       "      <td>-0.015864</td>\n",
       "      <td>-0.006118</td>\n",
       "      <td>0.004793</td>\n",
       "      <td>0.010601</td>\n",
       "      <td>0.034216</td>\n",
       "      <td>-0.008435</td>\n",
       "      <td>0.003362</td>\n",
       "      <td>-0.022075</td>\n",
       "      <td>0.002138</td>\n",
       "      <td>1.000000</td>\n",
       "      <td>-0.000156</td>\n",
       "      <td>-0.002054</td>\n",
       "      <td>0.009961</td>\n",
       "    </tr>\n",
       "    <tr>\n",
       "      <th>mean_oxygen</th>\n",
       "      <td>-0.661001</td>\n",
       "      <td>-0.007628</td>\n",
       "      <td>-0.008684</td>\n",
       "      <td>-0.541431</td>\n",
       "      <td>0.801133</td>\n",
       "      <td>-0.010058</td>\n",
       "      <td>-0.396302</td>\n",
       "      <td>0.592268</td>\n",
       "      <td>-0.004626</td>\n",
       "      <td>0.517135</td>\n",
       "      <td>-0.000156</td>\n",
       "      <td>1.000000</td>\n",
       "      <td>-0.026142</td>\n",
       "      <td>-0.017469</td>\n",
       "    </tr>\n",
       "    <tr>\n",
       "      <th>hours-per-week</th>\n",
       "      <td>0.030341</td>\n",
       "      <td>-0.030792</td>\n",
       "      <td>0.170625</td>\n",
       "      <td>0.018240</td>\n",
       "      <td>-0.032102</td>\n",
       "      <td>0.087539</td>\n",
       "      <td>0.022910</td>\n",
       "      <td>-0.027646</td>\n",
       "      <td>-0.050839</td>\n",
       "      <td>-0.010288</td>\n",
       "      <td>-0.002054</td>\n",
       "      <td>-0.026142</td>\n",
       "      <td>1.000000</td>\n",
       "      <td>0.053479</td>\n",
       "    </tr>\n",
       "    <tr>\n",
       "      <th>capital-loss</th>\n",
       "      <td>0.019235</td>\n",
       "      <td>0.005829</td>\n",
       "      <td>0.086869</td>\n",
       "      <td>-0.004923</td>\n",
       "      <td>-0.004863</td>\n",
       "      <td>-0.030236</td>\n",
       "      <td>0.026222</td>\n",
       "      <td>0.000425</td>\n",
       "      <td>-0.013609</td>\n",
       "      <td>-0.008099</td>\n",
       "      <td>0.009961</td>\n",
       "      <td>-0.017469</td>\n",
       "      <td>0.053479</td>\n",
       "      <td>1.000000</td>\n",
       "    </tr>\n",
       "  </tbody>\n",
       "</table>\n",
       "</div>"
      ],
      "text/plain": [
       "                  kurtosis_oxygen  pregnant  education-num  mean_glucose  \\\n",
       "kurtosis_oxygen          1.000000  0.026186       0.010934      0.473721   \n",
       "pregnant                 0.026186  1.000000      -0.007251      0.000157   \n",
       "education-num            0.010934 -0.007251       1.000000     -0.006419   \n",
       "mean_glucose             0.473721  0.000157      -0.006419      1.000000   \n",
       "std_oxygen              -0.843391 -0.021134      -0.021585     -0.560014   \n",
       "capital-gain             0.000166 -0.014146       0.121260     -0.004520   \n",
       "skewness_oxygen          0.917063  0.027582       0.005258      0.306320   \n",
       "kurtosis_glucose        -0.528419 -0.015595      -0.003287     -0.926100   \n",
       "fnlwgt                  -0.014477 -0.003645      -0.043830      0.012988   \n",
       "class                   -0.556612 -0.019003      -0.012740     -0.773304   \n",
       "std_glucose             -0.009563 -0.015864      -0.006118      0.004793   \n",
       "mean_oxygen             -0.661001 -0.007628      -0.008684     -0.541431   \n",
       "hours-per-week           0.030341 -0.030792       0.170625      0.018240   \n",
       "capital-loss             0.019235  0.005829       0.086869     -0.004923   \n",
       "\n",
       "                  std_oxygen  capital-gain  skewness_oxygen  kurtosis_glucose  \\\n",
       "kurtosis_oxygen    -0.843391      0.000166         0.917063         -0.528419   \n",
       "pregnant           -0.021134     -0.014146         0.027582         -0.015595   \n",
       "education-num      -0.021585      0.121260         0.005258         -0.003287   \n",
       "mean_glucose       -0.560014     -0.004520         0.306320         -0.926100   \n",
       "std_oxygen          1.000000     -0.006693        -0.605169          0.618290   \n",
       "capital-gain       -0.006693      1.000000        -0.000482          0.000283   \n",
       "skewness_oxygen    -0.605169     -0.000482         1.000000         -0.345074   \n",
       "kurtosis_glucose    0.618290      0.000283        -0.345074          1.000000   \n",
       "fnlwgt              0.008716     -0.008541        -0.012687         -0.007165   \n",
       "class               0.649126     -0.002218        -0.390437          0.788486   \n",
       "std_glucose         0.010601      0.034216        -0.008435          0.003362   \n",
       "mean_oxygen         0.801133     -0.010058        -0.396302          0.592268   \n",
       "hours-per-week     -0.032102      0.087539         0.022910         -0.027646   \n",
       "capital-loss       -0.004863     -0.030236         0.026222          0.000425   \n",
       "\n",
       "                    fnlwgt     class  std_glucose  mean_oxygen  \\\n",
       "kurtosis_oxygen  -0.014477 -0.556612    -0.009563    -0.661001   \n",
       "pregnant         -0.003645 -0.019003    -0.015864    -0.007628   \n",
       "education-num    -0.043830 -0.012740    -0.006118    -0.008684   \n",
       "mean_glucose      0.012988 -0.773304     0.004793    -0.541431   \n",
       "std_oxygen        0.008716  0.649126     0.010601     0.801133   \n",
       "capital-gain     -0.008541 -0.002218     0.034216    -0.010058   \n",
       "skewness_oxygen  -0.012687 -0.390437    -0.008435    -0.396302   \n",
       "kurtosis_glucose -0.007165  0.788486     0.003362     0.592268   \n",
       "fnlwgt            1.000000 -0.005010    -0.022075    -0.004626   \n",
       "class            -0.005010  1.000000     0.002138     0.517135   \n",
       "std_glucose      -0.022075  0.002138     1.000000    -0.000156   \n",
       "mean_oxygen      -0.004626  0.517135    -0.000156     1.000000   \n",
       "hours-per-week   -0.050839 -0.010288    -0.002054    -0.026142   \n",
       "capital-loss     -0.013609 -0.008099     0.009961    -0.017469   \n",
       "\n",
       "                  hours-per-week  capital-loss  \n",
       "kurtosis_oxygen         0.030341      0.019235  \n",
       "pregnant               -0.030792      0.005829  \n",
       "education-num           0.170625      0.086869  \n",
       "mean_glucose            0.018240     -0.004923  \n",
       "std_oxygen             -0.032102     -0.004863  \n",
       "capital-gain            0.087539     -0.030236  \n",
       "skewness_oxygen         0.022910      0.026222  \n",
       "kurtosis_glucose       -0.027646      0.000425  \n",
       "fnlwgt                 -0.050839     -0.013609  \n",
       "class                  -0.010288     -0.008099  \n",
       "std_glucose            -0.002054      0.009961  \n",
       "mean_oxygen            -0.026142     -0.017469  \n",
       "hours-per-week          1.000000      0.053479  \n",
       "capital-loss            0.053479      1.000000  "
      ]
     },
     "execution_count": 155,
     "metadata": {},
     "output_type": "execute_result"
    }
   ],
   "source": [
    "other_train.corr()"
   ]
  },
  {
   "cell_type": "code",
   "execution_count": 156,
   "metadata": {},
   "outputs": [
    {
     "data": {
      "text/plain": [
       "<matplotlib.axes._subplots.AxesSubplot at 0x2227237da20>"
      ]
     },
     "execution_count": 156,
     "metadata": {},
     "output_type": "execute_result"
    },
    {
     "data": {
      "image/png": "[encoded data removed]",
      "text/plain": [
       "<Figure size 432x288 with 2 Axes>"
      ]
     },
     "metadata": {
      "needs_background": "light"
     },
     "output_type": "display_data"
    }
   ],
   "source": [
    "sb.heatmap(other_train.corr())"
   ]
  },
  {
   "cell_type": "code",
   "execution_count": 157,
   "metadata": {},
   "outputs": [
    {
     "data": {
      "text/plain": [
       "<matplotlib.axes._subplots.AxesSubplot at 0x22273429198>"
      ]
     },
     "execution_count": 157,
     "metadata": {},
     "output_type": "execute_result"
    },
    {
     "data": {
      "image/png": "[encoded data removed]",
      "text/plain": [
       "<Figure size 432x288 with 2 Axes>"
      ]
     },
     "metadata": {
      "needs_background": "light"
     },
     "output_type": "display_data"
    }
   ],
   "source": [
    "sb.heatmap(other_valid.corr())"
   ]
  },
  {
   "cell_type": "markdown",
   "metadata": {},
   "source": [
    "na heatmapach su zobrazene korelacie jednotlivych atributov z datasetov other_train a other_valid\n"
   ]
  }
 ],
 "metadata": {
  "file_extension": ".py",
  "kernelspec": {
   "display_name": "Python 3",
   "language": "python",
   "name": "python3"
  },
  "language_info": {
   "codemirror_mode": {
    "name": "ipython",
    "version": 3
   },
   "file_extension": ".py",
   "mimetype": "text/x-python",
   "name": "python",
   "nbconvert_exporter": "python",
   "pygments_lexer": "ipython3",
   "version": "3.7.3"
  },
  "mimetype": "text/x-python",
  "name": "python",
  "npconvert_exporter": "python",
  "pygments_lexer": "ipython3",
  "version": 3
 },
 "nbformat": 4,
 "nbformat_minor": 2
}
